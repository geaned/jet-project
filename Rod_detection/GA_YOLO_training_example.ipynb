{
 "cells": [
  {
   "cell_type": "code",
   "execution_count": 1,
   "metadata": {},
   "outputs": [],
   "source": [
    "import ssl\n",
    "ssl._create_default_https_context = ssl._create_unverified_context"
   ]
  },
  {
   "cell_type": "code",
   "execution_count": 2,
   "metadata": {},
   "outputs": [],
   "source": [
    "import os"
   ]
  },
  {
   "cell_type": "code",
   "execution_count": 3,
   "metadata": {},
   "outputs": [],
   "source": [
    "os.environ['WANDB_NOTEBOOK_NAME'] = 'GA_YOLO_detection_example.ipynb'"
   ]
  },
  {
   "cell_type": "code",
   "execution_count": 4,
   "metadata": {},
   "outputs": [
    {
     "name": "stderr",
     "output_type": "stream",
     "text": [
      "/home/jorji/jet-project/Rod_detection/yolov5pip/lib/python3.10/site-packages/tqdm/auto.py:22: TqdmWarning: IProgress not found. Please update jupyter and ipywidgets. See https://ipywidgets.readthedocs.io/en/stable/user_install.html\n",
      "  from .autonotebook import tqdm as notebook_tqdm\n",
      "\u001b[34m\u001b[1mwandb\u001b[0m: Currently logged in as: \u001b[33mxanggx\u001b[0m (use `wandb login --relogin` to force relogin)\n",
      "\u001b[34m\u001b[1mtrain: \u001b[0mweights=../yolov5/yolov5s.pt, cfg=yolov5n6.yaml, data=rod_dataset.yaml, hyp=../yolov5/data/hyps/hyp.scratch-low.yaml, epochs=1, batch_size=1, imgsz=4320, rect=False, resume=False, nosave=False, noval=False, noautoanchor=False, evolve=None, bucket=, cache=None, image_weights=False, device=, multi_scale=False, single_cls=False, optimizer=SGD, sync_bn=False, workers=8, project=../yolov5/runs/train, name=exp, exist_ok=False, quad=False, cos_lr=False, label_smoothing=0.0, patience=100, freeze=[0], save_period=-1, local_rank=-1, entity=None, upload_dataset=False, bbox_interval=-1, artifact_alias=latest\n",
      "\u001b[34m\u001b[1mgithub: \u001b[0m⚠️ YOLOv5 is out of date by 13 commits. Use `git pull` or `git clone https://github.com/ultralytics/yolov5` to update.\n",
      "YOLOv5 🚀 v6.1-114-g5f941a8 torch 1.11.0+cu102 CPU\n",
      "\n",
      "\u001b[34m\u001b[1mhyperparameters: \u001b[0mlr0=0.01, lrf=0.01, momentum=0.937, weight_decay=0.0005, warmup_epochs=3.0, warmup_momentum=0.8, warmup_bias_lr=0.1, box=0.05, cls=0.5, cls_pw=1.0, obj=1.0, obj_pw=1.0, iou_t=0.2, anchor_t=4.0, fl_gamma=0.0, hsv_h=0.015, hsv_s=0.7, hsv_v=0.4, degrees=0.0, translate=0.1, scale=0.5, shear=0.0, perspective=0.0, flipud=0.0, fliplr=0.5, mosaic=1.0, mixup=0.0, copy_paste=0.0\n",
      "\u001b[34m\u001b[1mTensorBoard: \u001b[0mStart with 'tensorboard --logdir ../yolov5/runs/train', view at http://localhost:6006/\n"
     ]
    },
    {
     "data": {
      "text/html": [
       "Tracking run with wandb version 0.12.14"
      ],
      "text/plain": [
       "<IPython.core.display.HTML object>"
      ]
     },
     "metadata": {},
     "output_type": "display_data"
    },
    {
     "data": {
      "text/html": [
       "Run data is saved locally in <code>/home/jorji/jet-project/Rod_detection/wandb/run-20220411_165945-37y4lpnu</code>"
      ],
      "text/plain": [
       "<IPython.core.display.HTML object>"
      ]
     },
     "metadata": {},
     "output_type": "display_data"
    },
    {
     "data": {
      "text/html": [
       "Syncing run <strong><a href=\"https://wandb.ai/xanggx/train/runs/37y4lpnu\" target=\"_blank\">crimson-violet-3</a></strong> to <a href=\"https://wandb.ai/xanggx/train\" target=\"_blank\">Weights & Biases</a> (<a href=\"https://wandb.me/run\" target=\"_blank\">docs</a>)<br/>"
      ],
      "text/plain": [
       "<IPython.core.display.HTML object>"
      ]
     },
     "metadata": {},
     "output_type": "display_data"
    },
    {
     "name": "stderr",
     "output_type": "stream",
     "text": [
      "Overriding model.yaml nc=80 with nc=1\n",
      "\n",
      "                 from  n    params  module                                  arguments                     \n",
      "  0                -1  1      1760  models.common.Conv                      [3, 16, 6, 2, 2]              \n",
      "  1                -1  1      4672  models.common.Conv                      [16, 32, 3, 2]                \n",
      "  2                -1  1      4800  models.common.C3                        [32, 32, 1]                   \n",
      "  3                -1  1     18560  models.common.Conv                      [32, 64, 3, 2]                \n",
      "  4                -1  2     29184  models.common.C3                        [64, 64, 2]                   \n",
      "  5                -1  1     73984  models.common.Conv                      [64, 128, 3, 2]               \n",
      "  6                -1  3    156928  models.common.C3                        [128, 128, 3]                 \n",
      "  7                -1  1    221568  models.common.Conv                      [128, 192, 3, 2]              \n",
      "  8                -1  1    167040  models.common.C3                        [192, 192, 1]                 \n",
      "  9                -1  1    442880  models.common.Conv                      [192, 256, 3, 2]              \n",
      " 10                -1  1    296448  models.common.C3                        [256, 256, 1]                 \n",
      " 11                -1  1    164608  models.common.SPPF                      [256, 256, 5]                 \n",
      " 12                -1  1     49536  models.common.Conv                      [256, 192, 1, 1]              \n",
      " 13                -1  1         0  torch.nn.modules.upsampling.Upsample    [None, 2, 'nearest']          \n",
      " 14           [-1, 8]  1         0  models.common.Concat                    [1]                           \n",
      " 15                -1  1    203904  models.common.C3                        [384, 192, 1, False]          \n",
      " 16                -1  1     24832  models.common.Conv                      [192, 128, 1, 1]              \n",
      " 17                -1  1         0  torch.nn.modules.upsampling.Upsample    [None, 2, 'nearest']          \n",
      " 18           [-1, 6]  1         0  models.common.Concat                    [1]                           \n",
      " 19                -1  1     90880  models.common.C3                        [256, 128, 1, False]          \n",
      " 20                -1  1      8320  models.common.Conv                      [128, 64, 1, 1]               \n",
      " 21                -1  1         0  torch.nn.modules.upsampling.Upsample    [None, 2, 'nearest']          \n",
      " 22           [-1, 4]  1         0  models.common.Concat                    [1]                           \n",
      " 23                -1  1     22912  models.common.C3                        [128, 64, 1, False]           \n",
      " 24                -1  1     36992  models.common.Conv                      [64, 64, 3, 2]                \n",
      " 25          [-1, 20]  1         0  models.common.Concat                    [1]                           \n",
      " 26                -1  1     74496  models.common.C3                        [128, 128, 1, False]          \n",
      " 27                -1  1    147712  models.common.Conv                      [128, 128, 3, 2]              \n",
      " 28          [-1, 16]  1         0  models.common.Concat                    [1]                           \n",
      " 29                -1  1    179328  models.common.C3                        [256, 192, 1, False]          \n",
      " 30                -1  1    332160  models.common.Conv                      [192, 192, 3, 2]              \n",
      " 31          [-1, 12]  1         0  models.common.Concat                    [1]                           \n",
      " 32                -1  1    329216  models.common.C3                        [384, 256, 1, False]          \n",
      " 33  [23, 26, 29, 32]  1     11592  models.yolo.Detect                      [1, [[19, 27, 44, 40, 38, 94], [96, 68, 86, 152, 180, 137], [140, 301, 303, 264, 238, 542], [436, 615, 739, 380, 925, 792]], [64, 128, 192, 256]]\n",
      "YOLOv5n6 summary: 355 layers, 3094312 parameters, 3094312 gradients\n",
      "\n",
      "Transferred 36/459 items from ../yolov5/yolov5s.pt\n",
      "WARNING: --img-size 4320 must be multiple of max stride 64, updating to 4352\n",
      "Scaled weight_decay = 0.0005\n",
      "\u001b[34m\u001b[1moptimizer:\u001b[0m SGD with parameter groups 75 weight (no decay), 79 weight, 79 bias\n",
      "\u001b[34m\u001b[1malbumentations: \u001b[0mBlur(always_apply=False, p=0.01, blur_limit=(3, 7)), MedianBlur(always_apply=False, p=0.01, blur_limit=(3, 7)), ToGray(always_apply=False, p=0.01), CLAHE(always_apply=False, p=0.01, clip_limit=(1, 4.0), tile_grid_size=(8, 8))\n",
      "\u001b[34m\u001b[1mtrain: \u001b[0mScanning '/home/jorji/jet-project/datasets/rod_data/labels/train.cache' images and labels... 57 found, 0 missing, 0 empty, 0 corrupt: 100%|██████████| 57/57 [00:00<?, ?it/s]\n",
      "\u001b[34m\u001b[1mval: \u001b[0mScanning '/home/jorji/jet-project/datasets/rod_data/labels/valid.cache' images and labels... 14 found, 0 missing, 0 empty, 0 corrupt: 100%|██████████| 14/14 [00:00<?, ?it/s]\n",
      "Plotting labels to ../yolov5/runs/train/exp13/labels.jpg... \n",
      "\n",
      "\u001b[34m\u001b[1mAutoAnchor: \u001b[0m6.69 anchors/target, 0.998 Best Possible Recall (BPR). Current anchors are a good fit to dataset ✅\n",
      "Image sizes 4352 train, 4352 val\n",
      "Using 0 dataloader workers\n",
      "Logging results to \u001b[1m../yolov5/runs/train/exp13\u001b[0m\n",
      "Starting training for 1 epochs...\n",
      "\n",
      "     Epoch   gpu_mem       box       obj       cls    labels  img_size\n",
      "       0/0        0G    0.0965    0.6806         0        13      4352: 100%|██████████| 57/57 [09:26<00:00,  9.93s/it]\n",
      "               Class     Images     Labels          P          R     mAP@.5 mAP@.5:.95:   0%|          | 0/7 [00:00<?, ?it/s]WARNING: NMS time limit 0.160s exceeded\n",
      "               Class     Images     Labels          P          R     mAP@.5 mAP@.5:.95:  14%|█▍        | 1/7 [00:09<00:56,  9.49s/it]WARNING: NMS time limit 0.160s exceeded\n",
      "               Class     Images     Labels          P          R     mAP@.5 mAP@.5:.95:  29%|██▊       | 2/7 [00:18<00:45,  9.08s/it]WARNING: NMS time limit 0.160s exceeded\n",
      "               Class     Images     Labels          P          R     mAP@.5 mAP@.5:.95:  43%|████▎     | 3/7 [00:26<00:34,  8.58s/it]WARNING: NMS time limit 0.160s exceeded\n",
      "               Class     Images     Labels          P          R     mAP@.5 mAP@.5:.95:  57%|█████▋    | 4/7 [00:35<00:25,  8.66s/it]WARNING: NMS time limit 0.160s exceeded\n",
      "               Class     Images     Labels          P          R     mAP@.5 mAP@.5:.95:  71%|███████▏  | 5/7 [00:44<00:17,  8.77s/it]WARNING: NMS time limit 0.160s exceeded\n",
      "               Class     Images     Labels          P          R     mAP@.5 mAP@.5:.95:  86%|████████▌ | 6/7 [00:54<00:09,  9.46s/it]WARNING: NMS time limit 0.160s exceeded\n",
      "               Class     Images     Labels          P          R     mAP@.5 mAP@.5:.95: 100%|██████████| 7/7 [01:05<00:00,  9.33s/it]\n",
      "                 all         14        189    0.00524     0.0582    0.00283   0.000592\n",
      "\n",
      "1 epochs completed in 0.176 hours.\n",
      "Optimizer stripped from ../yolov5/runs/train/exp13/weights/last.pt, 13.7MB\n",
      "Optimizer stripped from ../yolov5/runs/train/exp13/weights/best.pt, 13.7MB\n",
      "\n",
      "Validating ../yolov5/runs/train/exp13/weights/best.pt...\n",
      "Fusing layers... \n",
      "YOLOv5n6 summary: 280 layers, 3087256 parameters, 0 gradients\n",
      "               Class     Images     Labels          P          R     mAP@.5 mAP@.5:.95:   0%|          | 0/7 [00:00<?, ?it/s]WARNING: NMS time limit 0.160s exceeded\n",
      "               Class     Images     Labels          P          R     mAP@.5 mAP@.5:.95:  14%|█▍        | 1/7 [00:08<00:52,  8.83s/it]WARNING: NMS time limit 0.160s exceeded\n",
      "               Class     Images     Labels          P          R     mAP@.5 mAP@.5:.95:  29%|██▊       | 2/7 [00:17<00:44,  8.90s/it]WARNING: NMS time limit 0.160s exceeded\n",
      "               Class     Images     Labels          P          R     mAP@.5 mAP@.5:.95:  43%|████▎     | 3/7 [00:25<00:33,  8.40s/it]WARNING: NMS time limit 0.160s exceeded\n",
      "               Class     Images     Labels          P          R     mAP@.5 mAP@.5:.95:  57%|█████▋    | 4/7 [00:34<00:25,  8.50s/it]WARNING: NMS time limit 0.160s exceeded\n",
      "               Class     Images     Labels          P          R     mAP@.5 mAP@.5:.95:  71%|███████▏  | 5/7 [00:42<00:17,  8.51s/it]WARNING: NMS time limit 0.160s exceeded\n",
      "               Class     Images     Labels          P          R     mAP@.5 mAP@.5:.95:  86%|████████▌ | 6/7 [00:53<00:09,  9.11s/it]WARNING: NMS time limit 0.160s exceeded\n",
      "               Class     Images     Labels          P          R     mAP@.5 mAP@.5:.95: 100%|██████████| 7/7 [01:02<00:00,  8.97s/it]\n",
      "                 all         14        189    0.00429     0.0476    0.00226   0.000451\n"
     ]
    },
    {
     "name": "stdout",
     "output_type": "stream",
     "text": [
      "\n"
     ]
    },
    {
     "data": {
      "text/html": [
       "Waiting for W&B process to finish... <strong style=\"color:green\">(success).</strong>"
      ],
      "text/plain": [
       "<IPython.core.display.HTML object>"
      ]
     },
     "metadata": {},
     "output_type": "display_data"
    },
    {
     "data": {
      "text/html": [
       "<style>\n",
       "    table.wandb td:nth-child(1) { padding: 0 10px; text-align: right }\n",
       "    .wandb-row { display: flex; flex-direction: row; flex-wrap: wrap; width: 100% }\n",
       "    .wandb-col { display: flex; flex-direction: column; flex-basis: 100%; flex: 1; padding: 10px; }\n",
       "    </style>\n",
       "<div class=\"wandb-row\"><div class=\"wandb-col\"><h3>Run history:</h3><br/><table class=\"wandb\"><tr><td>metrics/mAP_0.5</td><td>█▁</td></tr><tr><td>metrics/mAP_0.5:0.95</td><td>█▁</td></tr><tr><td>metrics/precision</td><td>█▁</td></tr><tr><td>metrics/recall</td><td>█▁</td></tr><tr><td>train/box_loss</td><td>▁</td></tr><tr><td>train/cls_loss</td><td>▁</td></tr><tr><td>train/obj_loss</td><td>▁</td></tr><tr><td>val/box_loss</td><td>▁█</td></tr><tr><td>val/cls_loss</td><td>▁▁</td></tr><tr><td>val/obj_loss</td><td>▁█</td></tr><tr><td>x/lr0</td><td>▁</td></tr><tr><td>x/lr1</td><td>▁</td></tr><tr><td>x/lr2</td><td>▁</td></tr></table><br/></div><div class=\"wandb-col\"><h3>Run summary:</h3><br/><table class=\"wandb\"><tr><td>best/epoch</td><td>0</td></tr><tr><td>best/mAP_0.5</td><td>0.00283</td></tr><tr><td>best/mAP_0.5:0.95</td><td>0.00059</td></tr><tr><td>best/precision</td><td>0.00524</td></tr><tr><td>best/recall</td><td>0.0582</td></tr><tr><td>metrics/mAP_0.5</td><td>0.00226</td></tr><tr><td>metrics/mAP_0.5:0.95</td><td>0.00045</td></tr><tr><td>metrics/precision</td><td>0.00429</td></tr><tr><td>metrics/recall</td><td>0.04762</td></tr><tr><td>train/box_loss</td><td>0.0965</td></tr><tr><td>train/cls_loss</td><td>0.0</td></tr><tr><td>train/obj_loss</td><td>0.68056</td></tr><tr><td>val/box_loss</td><td>0.0726</td></tr><tr><td>val/cls_loss</td><td>0.0</td></tr><tr><td>val/obj_loss</td><td>0.48278</td></tr><tr><td>x/lr0</td><td>0.00327</td></tr><tr><td>x/lr1</td><td>0.00327</td></tr><tr><td>x/lr2</td><td>0.07053</td></tr></table><br/></div></div>"
      ],
      "text/plain": [
       "<IPython.core.display.HTML object>"
      ]
     },
     "metadata": {},
     "output_type": "display_data"
    },
    {
     "data": {
      "text/html": [
       "Synced <strong style=\"color:#cdcd00\">crimson-violet-3</strong>: <a href=\"https://wandb.ai/xanggx/train/runs/37y4lpnu\" target=\"_blank\">https://wandb.ai/xanggx/train/runs/37y4lpnu</a><br/>Synced 5 W&B file(s), 31 media file(s), 1 artifact file(s) and 0 other file(s)"
      ],
      "text/plain": [
       "<IPython.core.display.HTML object>"
      ]
     },
     "metadata": {},
     "output_type": "display_data"
    },
    {
     "data": {
      "text/html": [
       "Find logs at: <code>./wandb/run-20220411_165945-37y4lpnu/logs</code>"
      ],
      "text/plain": [
       "<IPython.core.display.HTML object>"
      ]
     },
     "metadata": {},
     "output_type": "display_data"
    },
    {
     "name": "stderr",
     "output_type": "stream",
     "text": [
      "Results saved to \u001b[1m../yolov5/runs/train/exp13\u001b[0m\n"
     ]
    }
   ],
   "source": [
    "# yolov5 should be cloned via git locally\n",
    "%run -i '../yolov5/train.py' --cfg yolov5n6.yaml --data rod_dataset.yaml --img 4320 --epochs 1 --batch 1"
   ]
  },
  {
   "cell_type": "code",
   "execution_count": null,
   "metadata": {},
   "outputs": [],
   "source": []
  }
 ],
 "metadata": {
  "interpreter": {
   "hash": "586ad1ed5c97141e2437e681efbf1ec0adcd17d830cf5af2ca3d2819e743e158"
  },
  "kernelspec": {
   "display_name": "Python 3.8.8 ('base')",
   "language": "python",
   "name": "python3"
  },
  "language_info": {
   "codemirror_mode": {
    "name": "ipython",
    "version": 3
   },
   "file_extension": ".py",
   "mimetype": "text/x-python",
   "name": "python",
   "nbconvert_exporter": "python",
   "pygments_lexer": "ipython3",
   "version": "3.10.2"
  },
  "orig_nbformat": 4
 },
 "nbformat": 4,
 "nbformat_minor": 2
}
