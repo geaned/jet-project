{
 "cells": [
  {
   "cell_type": "code",
   "execution_count": 1,
   "id": "d6641f0f",
   "metadata": {},
   "outputs": [],
   "source": [
    "import numpy as np\n",
    "import zlib\n",
    "from PIL import Image\n",
    "import base64\n",
    "import cv2\n",
    "import io\n",
    "import json\n",
    "\n",
    "def base64_2_mask(s):\n",
    "    z = zlib.decompress(base64.b64decode(s))\n",
    "    n = np.fromstring(z, np.uint8)\n",
    "    mask = cv2.imdecode(n, cv2.IMREAD_UNCHANGED)[:, :, 3].astype(bool)\n",
    "    return mask\n",
    "\n",
    "PROJECT_PATH = '/home/asya/studying/Проекты/Распознавание серийных номеров/object detection/'\n",
    "GOOD_IMAGES_ANN = PROJECT_PATH + 'appropriate/ann/'\n",
    "BAD_IMAGES_ANN = PROJECT_PATH + 'bad/ann/'\n",
    "\n",
    "def create_txt_file(labels_path: str, json_path: str, image_filename: str):\n",
    "    with open(json_path) as f:\n",
    "        file_content = f.read()\n",
    "        annotation = json.loads(file_content)\n",
    "    img_height = annotation['size']['height']\n",
    "    img_width = annotation['size']['width']\n",
    "    image_name = image_filename.replace('.png', '').replace('.jpg', '')\n",
    "    with open(labels_path + image_name + '.txt', 'w') as f:\n",
    "        for i, obj in enumerate(annotation['objects']):\n",
    "            left_corner_x, left_corner_y = [int(s) for s in annotation['objects'][i]['bitmap']['origin']]\n",
    "            bbox_height, bbox_width = base64_2_mask(annotation['objects'][i]['bitmap']['data']).shape\n",
    "            x_center = left_corner_x + bbox_width // 2\n",
    "            y_center = left_corner_y + bbox_height // 2\n",
    "            output_arr = [0, x_center / img_width, y_center / img_height, bbox_width / img_width, bbox_height / img_height]\n",
    "            output_str = ' '.join([str(s) for s in output_arr])\n",
    "            f.write(output_str + '\\n')"
   ]
  },
  {
   "cell_type": "code",
   "execution_count": 2,
   "id": "bd4c118e",
   "metadata": {},
   "outputs": [
    {
     "name": "stderr",
     "output_type": "stream",
     "text": [
      "/tmp/ipykernel_10360/1085451713.py:11: DeprecationWarning: The binary mode of fromstring is deprecated, as it behaves surprisingly on unicode inputs. Use frombuffer instead\n",
      "  n = np.fromstring(z, np.uint8)\n"
     ]
    }
   ],
   "source": [
    "create_txt_file(PROJECT_PATH + 'appropriate/labels/', GOOD_IMAGES_ANN + 'IMG_1749.png.json', 'IMG_1749.png')"
   ]
  },
  {
   "cell_type": "code",
   "execution_count": null,
   "id": "486da5d4",
   "metadata": {},
   "outputs": [],
   "source": []
  }
 ],
 "metadata": {
  "kernelspec": {
   "display_name": "Python 3 (ipykernel)",
   "language": "python",
   "name": "python3"
  },
  "language_info": {
   "codemirror_mode": {
    "name": "ipython",
    "version": 3
   },
   "file_extension": ".py",
   "mimetype": "text/x-python",
   "name": "python",
   "nbconvert_exporter": "python",
   "pygments_lexer": "ipython3",
   "version": "3.8.10"
  }
 },
 "nbformat": 4,
 "nbformat_minor": 5
}
