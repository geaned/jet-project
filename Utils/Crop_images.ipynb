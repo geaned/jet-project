{
 "cells": [
  {
   "cell_type": "code",
   "execution_count": 1,
   "id": "5fc14894",
   "metadata": {},
   "outputs": [],
   "source": [
    "import json, os\n",
    "import numpy as np\n",
    "import cv2\n",
    "import matplotlib.pyplot as plt\n",
    "import Mask2Base64"
   ]
  },
  {
   "cell_type": "code",
   "execution_count": 2,
   "id": "bb3ca8ca",
   "metadata": {},
   "outputs": [],
   "source": [
    "def crop_blocks(data_dir, res_folder, ann_folder='ann', img_folder='img', echo=False):\n",
    "    ann_files = os.listdir(os.path.join(data_dir, ann_folder))\n",
    "    for fname in ann_files:\n",
    "        if echo:\n",
    "            print(\"\\n\", fname)\n",
    "        img_name = fname.split('.')[0]\n",
    "        image = cv2.imread(os.path.join(data_dir, img_folder, img_name + '.png'))\n",
    "        image = cv2.cvtColor(image, cv2.COLOR_BGR2RGB)\n",
    "        with open(os.path.join(data_dir, ann_folder, fname), 'r') as json_file:\n",
    "            data = json.load(json_file)\n",
    "            if data['objects']:\n",
    "                for rod in data['objects']:\n",
    "                    if echo:\n",
    "                        print(rod['id'])\n",
    "                    mask = np.array(Mask2Base64.base64_2_mask(rod['bitmap']['data']),dtype=int)\n",
    "                    x_min = rod['bitmap']['origin'][0]\n",
    "                    y_min = rod['bitmap']['origin'][1]\n",
    "                    x_max = x_min + mask.shape[1]\n",
    "                    y_max = y_min + mask.shape[0]\n",
    "                    \n",
    "                    cropped_image = image[y_min:y_max,x_min:x_max]\n",
    "                    file_name = os.path.join(res_folder, img_name + '_ROD_' + str(rod['id']) + '.png')\n",
    "                    cv2.imwrite(file_name, cropped_image)"
   ]
  },
  {
   "cell_type": "code",
   "execution_count": 3,
   "id": "b7b28938",
   "metadata": {},
   "outputs": [],
   "source": [
    "DATASETS = 'quality_segmentation/appropriate'\n",
    "CROPPED = 'cropped'\n",
    "crop_blocks(DATASETS, CROPPED)"
   ]
  },
  {
   "cell_type": "code",
   "execution_count": null,
   "id": "2352b742",
   "metadata": {},
   "outputs": [],
   "source": []
  }
 ],
 "metadata": {
  "kernelspec": {
   "display_name": "Python 3 (ipykernel)",
   "language": "python",
   "name": "python3"
  },
  "language_info": {
   "codemirror_mode": {
    "name": "ipython",
    "version": 3
   },
   "file_extension": ".py",
   "mimetype": "text/x-python",
   "name": "python",
   "nbconvert_exporter": "python",
   "pygments_lexer": "ipython3",
   "version": "3.9.2"
  }
 },
 "nbformat": 4,
 "nbformat_minor": 5
}
