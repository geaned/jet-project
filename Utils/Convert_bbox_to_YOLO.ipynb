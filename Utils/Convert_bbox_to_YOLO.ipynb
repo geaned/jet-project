{
 "cells": [
  {
   "cell_type": "code",
   "execution_count": 6,
   "metadata": {},
   "outputs": [],
   "source": [
    "import json\n",
    "import os"
   ]
  },
  {
   "cell_type": "code",
   "execution_count": 7,
   "metadata": {},
   "outputs": [],
   "source": [
    "TEXT_TO_NUM = {\n",
    "    'Zero': 0,\n",
    "    'One': 1,\n",
    "    'Two': 2,\n",
    "    'Three': 3,\n",
    "    'Four': 4,\n",
    "    'Five': 5,\n",
    "    'Six': 6,\n",
    "    'Seven': 7,\n",
    "    'Eight': 8,\n",
    "    'Nine': 9,\n",
    "}"
   ]
  },
  {
   "cell_type": "code",
   "execution_count": 8,
   "metadata": {},
   "outputs": [],
   "source": [
    "DATA_FOLDER = 'datasets_not_split/rotated_all' # <-- may have a different name\n",
    "# assuming this ipynb resides in a folder inside project root directory\n",
    "DATA_PATH = os.path.join(os.path.dirname(os.path.realpath(\"__file__\")), os.pardir, DATA_FOLDER)\n",
    "\n",
    "ANN_FOLDER = 'ann'\n",
    "IMG_FOLDER = 'img'\n",
    "LABEL_FOLDER = 'labels' # <-- this folder should be created beforehand\n",
    "\n",
    "def create_txt_file(labels_path: str, file_prefix: str):\n",
    "    json_path = os.path.join(DATA_PATH, ANN_FOLDER, file_prefix+'.png.json')\n",
    "\n",
    "    with open(json_path) as f:\n",
    "        file_content = f.read()\n",
    "        annotation = json.loads(file_content)\n",
    "\n",
    "    img_height = annotation['size']['height']\n",
    "    img_width = annotation['size']['width']\n",
    "\n",
    "    with open(os.path.join(labels_path, file_prefix+'.txt'), 'w') as f:\n",
    "        for i, obj in enumerate(annotation['objects']):\n",
    "            class_num = TEXT_TO_NUM[annotation['objects'][i]['classTitle']]\n",
    "            first_point, second_point = annotation['objects'][i]['points']['exterior']\n",
    "\n",
    "            upper_left_corner_x, upper_left_corner_y = min(first_point[0], second_point[0]), min(first_point[1], second_point[1])\n",
    "            bbox_height, bbox_width = abs(first_point[1] - second_point[1]), abs(first_point[0] - second_point[0])\n",
    "    \n",
    "            x_center = upper_left_corner_x + bbox_width // 2\n",
    "            y_center = upper_left_corner_y + bbox_height // 2\n",
    "    \n",
    "            output_arr = [class_num, x_center / img_width, y_center / img_height, bbox_width / img_width, bbox_height / img_height]\n",
    "            output_str = ' '.join([str(s) for s in output_arr])\n",
    "            f.write(output_str + '\\n')"
   ]
  },
  {
   "cell_type": "code",
   "execution_count": 9,
   "metadata": {},
   "outputs": [],
   "source": [
    "for file_prefix in list(name.replace('.png', '') for name in os.listdir(os.path.join(DATA_PATH, IMG_FOLDER))):\n",
    "    create_txt_file(os.path.join(DATA_PATH, LABEL_FOLDER), file_prefix)"
   ]
  }
 ],
 "metadata": {
  "interpreter": {
   "hash": "4af0901d4d95e6a277ee58308e4ec0a30129f4bfedfddb38e8a4f22bf8b09e2d"
  },
  "kernelspec": {
   "display_name": "Python 3.10.2 ('yolov5pip': venv)",
   "language": "python",
   "name": "python3"
  },
  "language_info": {
   "codemirror_mode": {
    "name": "ipython",
    "version": 3
   },
   "file_extension": ".py",
   "mimetype": "text/x-python",
   "name": "python",
   "nbconvert_exporter": "python",
   "pygments_lexer": "ipython3",
   "version": "3.10.4"
  },
  "orig_nbformat": 4
 },
 "nbformat": 4,
 "nbformat_minor": 2
}
