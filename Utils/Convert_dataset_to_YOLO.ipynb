{
 "cells": [
  {
   "cell_type": "code",
   "execution_count": 1,
   "id": "d6641f0f",
   "metadata": {},
   "outputs": [],
   "source": [
    "import numpy as np\n",
    "import zlib\n",
    "from PIL import Image\n",
    "import base64\n",
    "import cv2\n",
    "import io\n",
    "import json\n",
    "import os\n",
    "from Mask2Base64 import base64_2_mask\n",
    "\n",
    "# def base64_2_mask(s):\n",
    "#     z = zlib.decompress(base64.b64decode(s))\n",
    "#     n = np.frombuffer(z, np.uint8)\n",
    "#     mask = cv2.imdecode(n, cv2.IMREAD_UNCHANGED)[:, :, 3].astype(bool)\n",
    "#     return mask\n",
    "\n",
    "DATA_FOLDER = 'data_all' # <-- may have a different name\n",
    "# assuming this ipynb resides in a folder inside project root directory\n",
    "DATA_PATH = os.path.join(os.path.dirname(os.path.realpath(\"__file__\")), os.pardir, DATA_FOLDER)\n",
    "\n",
    "ANN_FOLDER = 'ann'\n",
    "IMG_FOLDER = 'img'\n",
    "LABEL_FOLDER = 'labels' # <-- this folder should be created beforehand\n",
    "\n",
    "def create_txt_file(labels_path: str, file_prefix: str):\n",
    "    json_path = os.path.join(DATA_PATH, ANN_FOLDER, file_prefix+'.png.json')\n",
    "    with open(json_path) as f:\n",
    "        file_content = f.read()\n",
    "        annotation = json.loads(file_content)\n",
    "    img_height = annotation['size']['height']\n",
    "    img_width = annotation['size']['width']\n",
    "    with open(os.path.join(labels_path, file_prefix+'.txt'), 'w') as f:\n",
    "        for i, obj in enumerate(annotation['objects']):\n",
    "            left_corner_x, left_corner_y = [int(s) for s in annotation['objects'][i]['bitmap']['origin']]\n",
    "            bbox_height, bbox_width = base64_2_mask(annotation['objects'][i]['bitmap']['data']).shape\n",
    "            x_center = left_corner_x + bbox_width // 2\n",
    "            y_center = left_corner_y + bbox_height // 2\n",
    "            output_arr = [0, x_center / img_width, y_center / img_height, bbox_width / img_width, bbox_height / img_height]\n",
    "            output_str = ' '.join([str(s) for s in output_arr])\n",
    "            f.write(output_str + '\\n')"
   ]
  },
  {
   "cell_type": "code",
   "execution_count": 2,
   "id": "bd4c118e",
   "metadata": {},
   "outputs": [],
   "source": [
    "create_txt_file(os.path.join(DATA_PATH, LABEL_FOLDER), 'IMG_1749')"
   ]
  },
  {
   "cell_type": "code",
   "execution_count": 3,
   "id": "486da5d4",
   "metadata": {},
   "outputs": [],
   "source": [
    "for file_prefix in list(name.replace('.png', '') for name in os.listdir(os.path.join(DATA_PATH, IMG_FOLDER))):\n",
    "    create_txt_file(os.path.join(DATA_PATH, LABEL_FOLDER), file_prefix)"
   ]
  },
  {
   "cell_type": "code",
   "execution_count": null,
   "id": "6e13be69",
   "metadata": {},
   "outputs": [],
   "source": []
  }
 ],
 "metadata": {
  "kernelspec": {
   "display_name": "Python 3 (ipykernel)",
   "language": "python",
   "name": "python3"
  },
  "language_info": {
   "codemirror_mode": {
    "name": "ipython",
    "version": 3
   },
   "file_extension": ".py",
   "mimetype": "text/x-python",
   "name": "python",
   "nbconvert_exporter": "python",
   "pygments_lexer": "ipython3",
   "version": "3.8.8"
  }
 },
 "nbformat": 4,
 "nbformat_minor": 5
}
