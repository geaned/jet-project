{
 "cells": [
  {
   "cell_type": "markdown",
   "id": "934d174d",
   "metadata": {},
   "source": [
    "Посмотрим, какие обрезанные изображения по ошибке не проходят этап локальной проверки качества:"
   ]
  },
  {
   "cell_type": "code",
   "execution_count": 1,
   "id": "9aab0e4c",
   "metadata": {},
   "outputs": [],
   "source": [
    "import os\n",
    "\n",
    "LOCAL_ERRORS_PATH = os.path.join(os.getcwd(), 'repo', 'jet-project', 'local_failed_images')"
   ]
  },
  {
   "cell_type": "code",
   "execution_count": 2,
   "id": "d96234e7",
   "metadata": {},
   "outputs": [],
   "source": [
    "CROP_IMAGES_PATH = os.path.join(os.getcwd(), 'repo', 'jet-project', 'crop_results')"
   ]
  },
  {
   "cell_type": "code",
   "execution_count": 7,
   "id": "d5722987",
   "metadata": {},
   "outputs": [],
   "source": [
    "import shutil\n",
    "\n",
    "def collect_images(category_name):\n",
    "    with open(os.path.join(LOCAL_ERRORS_PATH, category_name + '.txt')) as f:\n",
    "        for line in f.readlines():\n",
    "            curr_img_name = line.strip().replace('.png', '') + '.png'\n",
    "            shutil.copyfile(\n",
    "                os.path.join(CROP_IMAGES_PATH, curr_img_name),\n",
    "                os.path.join(LOCAL_ERRORS_PATH, category_name, curr_img_name),\n",
    "            )"
   ]
  },
  {
   "cell_type": "code",
   "execution_count": 8,
   "id": "1a64e3fe",
   "metadata": {},
   "outputs": [],
   "source": [
    "names = ['too_bright', 'too_blurry', 'too_thin', 'too_small']\n",
    "\n",
    "for name in names:\n",
    "    collect_images(name)"
   ]
  },
  {
   "cell_type": "markdown",
   "id": "2051bce1",
   "metadata": {},
   "source": [
    "Просмотрев изображения, которые отсеиваем на этапе локальной проверки, обнаружила 7 ошибочных изображений для признака 'crop is too thin' и 4 ошибочных изображения на 'too blurry'. Посчитаем значения метрик на этих изображениях, подкорректируем значения порогов (помним о том, что лучше пропустить дальше плохие изображения. чем отсеять хорошие!):"
   ]
  },
  {
   "cell_type": "code",
   "execution_count": 1,
   "id": "d31c45d5",
   "metadata": {},
   "outputs": [],
   "source": [
    "import os\n",
    "\n",
    "LOCAL_ERRORS_PATH = os.path.join(os.getcwd(), 'repo', 'jet-project', 'local_failed_images')\n",
    "\n",
    "blurry_errors_path = os.path.join(LOCAL_ERRORS_PATH, 'too_blurry', 'no!')\n",
    "thin_errors_path = os.path.join(LOCAL_ERRORS_PATH, 'too_thin', 'no!')"
   ]
  },
  {
   "cell_type": "markdown",
   "id": "c56e861e",
   "metadata": {},
   "source": [
    "### Порог для нечётких изображений"
   ]
  },
  {
   "cell_type": "code",
   "execution_count": 2,
   "id": "46b08195",
   "metadata": {},
   "outputs": [],
   "source": [
    "import scipy.ndimage as snd\n",
    "import numpy as np\n",
    "\n",
    "def sta6_optimized(gray_img: np.ndarray, conv_size: int = 0, stride: int = 1):\n",
    "    image_intensity = gray_img / 255\n",
    "    \n",
    "    mean_kernel = np.ones((conv_size, conv_size)) / conv_size**2\n",
    "    image_mean_intensity = snd.convolve(image_intensity, mean_kernel)\n",
    "    image_mean_intensity = image_mean_intensity[(conv_size-1)//2:image_mean_intensity.shape[0]-conv_size//2, (conv_size-1)//2:image_mean_intensity.shape[1]-conv_size//2]\n",
    "    image_intensity = image_intensity[(conv_size-1)//2:image_intensity.shape[0]-conv_size//2, (conv_size-1)//2:image_intensity.shape[1]-conv_size//2]\n",
    "\n",
    "    image_intensity = image_intensity[::stride, ::stride]\n",
    "    image_mean_intensity = image_mean_intensity[::stride, ::stride]\n",
    "    \n",
    "    sta6 = np.mean(np.power(image_intensity - image_mean_intensity, 2))\n",
    "\n",
    "    return sta6"
   ]
  },
  {
   "cell_type": "code",
   "execution_count": 3,
   "id": "2c6f6313",
   "metadata": {},
   "outputs": [],
   "source": [
    "from tqdm.notebook import tqdm\n",
    "import cv2\n",
    "\n",
    "def count_sta6_on_images(path_to_images):\n",
    "    values = []\n",
    "    for i, img in tqdm(enumerate(os.listdir(path_to_images))):\n",
    "        image = cv2.imread(os.path.join(path_to_images, img))\n",
    "        gray = cv2.cvtColor(image, cv2.COLOR_BGR2GRAY)\n",
    "        curr_val = sta6_optimized(gray, conv_size=5)\n",
    "        values.append(curr_val)\n",
    "    return np.array(values)"
   ]
  },
  {
   "cell_type": "code",
   "execution_count": 4,
   "id": "eed1c452",
   "metadata": {},
   "outputs": [
    {
     "data": {
      "application/vnd.jupyter.widget-view+json": {
       "model_id": "5bbe2c67deb0411084a3f41efdabd194",
       "version_major": 2,
       "version_minor": 0
      },
      "text/plain": [
       "0it [00:00, ?it/s]"
      ]
     },
     "metadata": {},
     "output_type": "display_data"
    },
    {
     "data": {
      "text/plain": [
       "array([655.90125889, 651.11605682, 510.47749301, 550.60003033])"
      ]
     },
     "execution_count": 4,
     "metadata": {},
     "output_type": "execute_result"
    }
   ],
   "source": [
    "count_sta6_on_images(blurry_errors_path) * 1e7"
   ]
  },
  {
   "cell_type": "markdown",
   "id": "0be93153",
   "metadata": {},
   "source": [
    "До этого называли обрезанное изображение слишком нечётким, если метрика STA6 * 10^7 была <= 688.078.\n",
    "Поменяем порог на 510.477"
   ]
  },
  {
   "cell_type": "markdown",
   "id": "197092e7",
   "metadata": {},
   "source": [
    "### Порог для повёрнутых прутков"
   ]
  },
  {
   "cell_type": "code",
   "execution_count": 5,
   "id": "42818aa6",
   "metadata": {},
   "outputs": [],
   "source": [
    "def size_ratio(gray_img: np.ndarray):\n",
    "    height, width = gray_img.shape\n",
    "    return min(height, width) / max(height, width)\n",
    "\n",
    "def count_metric_on_images(metric, path_to_images):\n",
    "    values = []\n",
    "    for i, img in tqdm(enumerate(os.listdir(path_to_images))):\n",
    "        image = cv2.imread(os.path.join(path_to_images, img))\n",
    "        gray = cv2.cvtColor(image, cv2.COLOR_BGR2GRAY)\n",
    "        curr_val = metric(gray)\n",
    "        values.append(curr_val)\n",
    "    return np.array(values)"
   ]
  },
  {
   "cell_type": "code",
   "execution_count": 6,
   "id": "d8764b98",
   "metadata": {},
   "outputs": [
    {
     "data": {
      "application/vnd.jupyter.widget-view+json": {
       "model_id": "76f516f92a00407188eeb8ac4027c820",
       "version_major": 2,
       "version_minor": 0
      },
      "text/plain": [
       "0it [00:00, ?it/s]"
      ]
     },
     "metadata": {},
     "output_type": "display_data"
    },
    {
     "data": {
      "text/plain": [
       "array([0.80017762, 0.95027624, 0.77767936, 0.81074169, 0.94951456,\n",
       "       0.8011782 , 0.81024259])"
      ]
     },
     "execution_count": 6,
     "metadata": {},
     "output_type": "execute_result"
    }
   ],
   "source": [
    "count_metric_on_images(size_ratio, thin_errors_path)"
   ]
  },
  {
   "cell_type": "markdown",
   "id": "83698935",
   "metadata": {},
   "source": [
    "До этого называли обрезанное изображение слишком повёрнутым, если метрика отношения высоты и ширины была < 0.811.\n",
    "Поменяем порог на 0.777"
   ]
  },
  {
   "cell_type": "markdown",
   "id": "138d147a",
   "metadata": {},
   "source": [
    "После этого ещё раз запустим pipeline, посмотрим, какие изображения отсеились:"
   ]
  },
  {
   "cell_type": "code",
   "execution_count": 10,
   "id": "3e04db61",
   "metadata": {},
   "outputs": [],
   "source": [
    "CROP_IMAGES_PATH = os.path.join(os.getcwd(), 'repo', 'jet-project', 'crop_results')"
   ]
  },
  {
   "cell_type": "code",
   "execution_count": 11,
   "id": "9d10a4a0",
   "metadata": {},
   "outputs": [],
   "source": [
    "import shutil\n",
    "\n",
    "def collect_images(category_name):\n",
    "    with open(os.path.join(LOCAL_ERRORS_PATH, category_name[:-1] + '.txt')) as f:\n",
    "        for line in f.readlines():\n",
    "            curr_img_name = line.strip().replace('.png', '') + '.png'\n",
    "            shutil.copyfile(\n",
    "                os.path.join(CROP_IMAGES_PATH, curr_img_name),\n",
    "                os.path.join(LOCAL_ERRORS_PATH, category_name, curr_img_name),\n",
    "            )"
   ]
  },
  {
   "cell_type": "code",
   "execution_count": 12,
   "id": "db287734",
   "metadata": {},
   "outputs": [],
   "source": [
    "names = ['too_bright1', 'too_blurry1', 'too_thin1', 'too_small1']\n",
    "\n",
    "for name in names:\n",
    "    collect_images(name)"
   ]
  },
  {
   "cell_type": "markdown",
   "id": "25747e4e",
   "metadata": {},
   "source": [
    "Стало лучше!)"
   ]
  }
 ],
 "metadata": {
  "kernelspec": {
   "display_name": "Python 3 (ipykernel)",
   "language": "python",
   "name": "python3"
  },
  "language_info": {
   "codemirror_mode": {
    "name": "ipython",
    "version": 3
   },
   "file_extension": ".py",
   "mimetype": "text/x-python",
   "name": "python",
   "nbconvert_exporter": "python",
   "pygments_lexer": "ipython3",
   "version": "3.8.10"
  }
 },
 "nbformat": 4,
 "nbformat_minor": 5
}
