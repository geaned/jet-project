{
 "cells": [
  {
   "cell_type": "code",
   "execution_count": 1,
   "metadata": {},
   "outputs": [],
   "source": [
    "import os\n",
    "import numpy as np\n",
    "import torch\n",
    "import matplotlib.pyplot as plt\n",
    "import matplotlib.image as mpimg"
   ]
  },
  {
   "cell_type": "code",
   "execution_count": 2,
   "metadata": {},
   "outputs": [],
   "source": [
    "def rgb2gray(rgbImg):\n",
    "    return np.dot(rgbImg[...,:3], [0.299, 0.587, 0.114])"
   ]
  },
  {
   "cell_type": "code",
   "execution_count": 3,
   "metadata": {},
   "outputs": [],
   "source": [
    "def get_train_images(directories):\n",
    "    for directory in directories:\n",
    "        print(directory)\n",
    "        found_images = [file_name for file_name in os.listdir(directory) if file_name.endswith('.png')]\n",
    "        for file_name_png in found_images:\n",
    "            print(file_name_png, end=' ')\n",
    "            yield os.path.join(directory, file_name_png)"
   ]
  },
  {
   "cell_type": "code",
   "execution_count": 4,
   "metadata": {},
   "outputs": [],
   "source": [
    "def sta6_avg_convolution(grayImg: np.ndarray, idx_i: int, idx_j: int, conv_radius: int):\n",
    "    return np.mean(grayImg[idx_i - conv_radius : idx_i + conv_radius + 1, idx_j - conv_radius : idx_j + conv_radius + 1])\n",
    "\n",
    "def sta6(grayImg: np.ndarray, conv_radius: int = 0, stride: int = 1):\n",
    "    res = 0\n",
    "    cnt = 0\n",
    "    for i in range(conv_radius, grayImg.shape[0] - conv_radius, stride):\n",
    "        for j in range(conv_radius, grayImg.shape[1] - conv_radius, stride):\n",
    "            res += np.power(grayImg[i][j] - sta6_avg_convolution(grayImg, i, j, conv_radius), 2)\n",
    "            cnt += 1\n",
    "    \n",
    "    return '({0:10.4f}, {1:8d}): {2:.7f}'.format(res, cnt, res / cnt)"
   ]
  },
  {
   "cell_type": "code",
   "execution_count": 9,
   "metadata": {},
   "outputs": [
    {
     "name": "stdout",
     "output_type": "stream",
     "text": [
      "data/train/img\n",
      "IMG_6410.png (   56.0620,   654953): 0.0000856\n",
      "IMG_6497.png (  117.6398,   872911): 0.0001348\n",
      "IMG_1753.png (  325.8225,   760285): 0.0004286\n",
      "IMG_6495.png (   73.7187,   872911): 0.0000845\n",
      "IMG_1758.png (  396.6839,   760285): 0.0005218\n",
      "IMG_6406.png (  107.0053,   654953): 0.0001634\n",
      "IMG_6493.png (   83.1660,   872911): 0.0000953\n",
      "IMG_6394.png (   65.3394,   654953): 0.0000998\n",
      "IMG_1750.png (  157.7334,   760285): 0.0002075\n",
      "IMG_1754.png (  347.0776,   760285): 0.0004565\n",
      "IMG_1759.png (  470.3460,   760285): 0.0006186\n",
      "IMG_1755.png (  488.8804,   760285): 0.0006430\n",
      "IMG_1756.png (  462.1729,   760285): 0.0006079\n",
      "IMG_6396.png (   77.5857,   654953): 0.0001185\n",
      "IMG_6506.png (  228.6643,   872911): 0.0002620\n",
      "IMG_1748.png (  142.9900,   760285): 0.0001881\n",
      "IMG_6491.png (   68.1124,   872911): 0.0000780\n",
      "IMG_6402.png (  300.2691,   654953): 0.0004585\n",
      "data/bad/img\n",
      "IMG_6369.png (  106.8358,   654953): 0.0001631\n",
      "IMG_6417.png (   64.8282,   654953): 0.0000990\n",
      "IMG_6375.png (  138.0353,   654953): 0.0002108\n",
      "IMG_6376.png (  122.3368,   654953): 0.0001868\n",
      "IMG_6415.png (  166.1708,   654953): 0.0002537\n",
      "IMG_6364.png (  117.8503,   654953): 0.0001799\n",
      "IMG_6408.png (   71.3114,   654953): 0.0001089\n",
      "IMG_6416.png (   93.2905,   654953): 0.0001424\n",
      "IMG_6374.png (  163.1427,   654953): 0.0002491\n",
      "IMG_6422.png (  108.7677,   654953): 0.0001661\n",
      "IMG_6398.png (   79.2391,   654953): 0.0001210\n",
      "IMG_6399.png (   92.8154,   654953): 0.0001417\n",
      "IMG_6388.png (   90.5133,   654953): 0.0001382\n",
      "IMG_6421.png (  104.2284,   654953): 0.0001591\n",
      "IMG_6370.png (  126.1848,   654953): 0.0001927\n",
      "IMG_6380.png (  162.0899,   654953): 0.0002475\n",
      "IMG_6366.png (  197.0671,   654953): 0.0003009\n",
      "IMG_6420.png (  107.3050,   654953): 0.0001638\n",
      "IMG_6423.png (   92.7455,   654953): 0.0001416\n",
      "IMG_6419.png "
     ]
    },
    {
     "ename": "KeyboardInterrupt",
     "evalue": "",
     "output_type": "error",
     "traceback": [
      "\u001b[0;31m---------------------------------------------------------------------------\u001b[0m",
      "\u001b[0;31mKeyboardInterrupt\u001b[0m                         Traceback (most recent call last)",
      "\u001b[0;32m<ipython-input-9-673f0ae40593>\u001b[0m in \u001b[0;36m<module>\u001b[0;34m\u001b[0m\n\u001b[1;32m      4\u001b[0m     \u001b[0mrgbImage\u001b[0m \u001b[0;34m=\u001b[0m \u001b[0mmpimg\u001b[0m\u001b[0;34m.\u001b[0m\u001b[0mimread\u001b[0m\u001b[0;34m(\u001b[0m\u001b[0mrgb_image_name\u001b[0m\u001b[0;34m)\u001b[0m\u001b[0;34m\u001b[0m\u001b[0;34m\u001b[0m\u001b[0m\n\u001b[1;32m      5\u001b[0m     \u001b[0mgrayImage\u001b[0m \u001b[0;34m=\u001b[0m \u001b[0mrgb2gray\u001b[0m\u001b[0;34m(\u001b[0m\u001b[0mrgbImage\u001b[0m\u001b[0;34m)\u001b[0m\u001b[0;34m\u001b[0m\u001b[0;34m\u001b[0m\u001b[0m\n\u001b[0;32m----> 6\u001b[0;31m     \u001b[0mprint\u001b[0m\u001b[0;34m(\u001b[0m\u001b[0msta6\u001b[0m\u001b[0;34m(\u001b[0m\u001b[0mgrayImage\u001b[0m\u001b[0;34m,\u001b[0m \u001b[0mconv_radius\u001b[0m\u001b[0;34m=\u001b[0m\u001b[0;36m2\u001b[0m\u001b[0;34m,\u001b[0m \u001b[0mstride\u001b[0m\u001b[0;34m=\u001b[0m\u001b[0;36m4\u001b[0m\u001b[0;34m)\u001b[0m\u001b[0;34m)\u001b[0m\u001b[0;34m\u001b[0m\u001b[0;34m\u001b[0m\u001b[0m\n\u001b[0m",
      "\u001b[0;32m<ipython-input-4-34273ec507ce>\u001b[0m in \u001b[0;36msta6\u001b[0;34m(grayImg, conv_radius, stride)\u001b[0m\n\u001b[1;32m      7\u001b[0m     \u001b[0;32mfor\u001b[0m \u001b[0mi\u001b[0m \u001b[0;32min\u001b[0m \u001b[0mrange\u001b[0m\u001b[0;34m(\u001b[0m\u001b[0mconv_radius\u001b[0m\u001b[0;34m,\u001b[0m \u001b[0mgrayImg\u001b[0m\u001b[0;34m.\u001b[0m\u001b[0mshape\u001b[0m\u001b[0;34m[\u001b[0m\u001b[0;36m0\u001b[0m\u001b[0;34m]\u001b[0m \u001b[0;34m-\u001b[0m \u001b[0mconv_radius\u001b[0m\u001b[0;34m,\u001b[0m \u001b[0mstride\u001b[0m\u001b[0;34m)\u001b[0m\u001b[0;34m:\u001b[0m\u001b[0;34m\u001b[0m\u001b[0;34m\u001b[0m\u001b[0m\n\u001b[1;32m      8\u001b[0m         \u001b[0;32mfor\u001b[0m \u001b[0mj\u001b[0m \u001b[0;32min\u001b[0m \u001b[0mrange\u001b[0m\u001b[0;34m(\u001b[0m\u001b[0mconv_radius\u001b[0m\u001b[0;34m,\u001b[0m \u001b[0mgrayImg\u001b[0m\u001b[0;34m.\u001b[0m\u001b[0mshape\u001b[0m\u001b[0;34m[\u001b[0m\u001b[0;36m1\u001b[0m\u001b[0;34m]\u001b[0m \u001b[0;34m-\u001b[0m \u001b[0mconv_radius\u001b[0m\u001b[0;34m,\u001b[0m \u001b[0mstride\u001b[0m\u001b[0;34m)\u001b[0m\u001b[0;34m:\u001b[0m\u001b[0;34m\u001b[0m\u001b[0;34m\u001b[0m\u001b[0m\n\u001b[0;32m----> 9\u001b[0;31m             \u001b[0mres\u001b[0m \u001b[0;34m+=\u001b[0m \u001b[0mnp\u001b[0m\u001b[0;34m.\u001b[0m\u001b[0mpower\u001b[0m\u001b[0;34m(\u001b[0m\u001b[0mgrayImg\u001b[0m\u001b[0;34m[\u001b[0m\u001b[0mi\u001b[0m\u001b[0;34m]\u001b[0m\u001b[0;34m[\u001b[0m\u001b[0mj\u001b[0m\u001b[0;34m]\u001b[0m \u001b[0;34m-\u001b[0m \u001b[0msta6_avg_convolution\u001b[0m\u001b[0;34m(\u001b[0m\u001b[0mgrayImg\u001b[0m\u001b[0;34m,\u001b[0m \u001b[0mi\u001b[0m\u001b[0;34m,\u001b[0m \u001b[0mj\u001b[0m\u001b[0;34m,\u001b[0m \u001b[0mconv_radius\u001b[0m\u001b[0;34m)\u001b[0m\u001b[0;34m,\u001b[0m \u001b[0;36m2\u001b[0m\u001b[0;34m)\u001b[0m\u001b[0;34m\u001b[0m\u001b[0;34m\u001b[0m\u001b[0m\n\u001b[0m\u001b[1;32m     10\u001b[0m             \u001b[0mcnt\u001b[0m \u001b[0;34m+=\u001b[0m \u001b[0;36m1\u001b[0m\u001b[0;34m\u001b[0m\u001b[0;34m\u001b[0m\u001b[0m\n\u001b[1;32m     11\u001b[0m \u001b[0;34m\u001b[0m\u001b[0m\n",
      "\u001b[0;31mKeyboardInterrupt\u001b[0m: "
     ]
    }
   ],
   "source": [
    "dirs = ['data/train/img', 'data/bad/img']\n",
    "\n",
    "for rgb_image_name in get_train_images(dirs):\n",
    "    rgbImage = mpimg.imread(rgb_image_name)\n",
    "    grayImage = rgb2gray(rgbImage)\n",
    "    print(sta6(grayImage, conv_radius=2, stride=4))"
   ]
  },
  {
   "cell_type": "code",
   "execution_count": null,
   "metadata": {},
   "outputs": [],
   "source": []
  }
 ],
 "metadata": {
  "interpreter": {
   "hash": "586ad1ed5c97141e2437e681efbf1ec0adcd17d830cf5af2ca3d2819e743e158"
  },
  "kernelspec": {
   "display_name": "Python 3.8.8 ('base')",
   "language": "python",
   "name": "python3"
  },
  "language_info": {
   "codemirror_mode": {
    "name": "ipython",
    "version": 3
   },
   "file_extension": ".py",
   "mimetype": "text/x-python",
   "name": "python",
   "nbconvert_exporter": "python",
   "pygments_lexer": "ipython3",
   "version": "3.8.8"
  },
  "orig_nbformat": 4
 },
 "nbformat": 4,
 "nbformat_minor": 2
}
