{
 "cells": [
  {
   "cell_type": "markdown",
   "id": "662f0212",
   "metadata": {},
   "source": [
    "# IoU"
   ]
  },
  {
   "cell_type": "code",
   "execution_count": 1,
   "id": "71286f49",
   "metadata": {},
   "outputs": [],
   "source": [
    "import os\n",
    "\n",
    "PATH_TO_LABELS = os.path.join(os.getcwd(), 'exp29', 'labels')"
   ]
  },
  {
   "cell_type": "code",
   "execution_count": 2,
   "id": "07dcfa67",
   "metadata": {},
   "outputs": [],
   "source": [
    "def calculate_iou(bbox1, bbox2):\n",
    "    x1, y1, w1, h1 = bbox1\n",
    "    x2, y2, w2, h2 = bbox2\n",
    "    x11 = x1 - w1 / 2\n",
    "    y11 = y1 + h1 / 2\n",
    "    x12 = x1 + w1 / 2\n",
    "    y12 = y1 - h1 / 2\n",
    "    x21 = x2 - w2 / 2\n",
    "    y21 = y2 + h2 / 2\n",
    "    x22 = x2 + w2 / 2\n",
    "    y22 = y2 - h2 / 2\n",
    "    x_new_1 = max(x11, x21)\n",
    "    y_new_1 = min(y11, y21)\n",
    "    x_new_2 = min(x12, x22)\n",
    "    y_new_2 = max(y12, y22)\n",
    "    if x_new_1 > x_new_2 or y_new_1 < y_new_2:\n",
    "        return 0.0\n",
    "    intersection = (x_new_2 - x_new_1) * (y_new_1 - y_new_2)\n",
    "    union = w1 * h1 + w2 * h2 - intersection\n",
    "    return intersection / union\n",
    "\n",
    "def get_all_ious(file_path):\n",
    "    with open(file_path, 'r') as f:\n",
    "        bounding_boxes = []\n",
    "        ious = []\n",
    "        for line in f.readlines():\n",
    "            _, x_center, y_center, w, h, _ = [float(s) for s in line.split()]\n",
    "            bounding_boxes.append((x_center, y_center, w, h))\n",
    "        for i1, bbox1 in enumerate(bounding_boxes):\n",
    "            for i2, bbox2 in enumerate(bounding_boxes):\n",
    "                if i1 != i2:\n",
    "                    iou = calculate_iou(bbox1, bbox2)\n",
    "                    if iou:\n",
    "                        ious.append(iou)\n",
    "    return ious"
   ]
  },
  {
   "cell_type": "code",
   "execution_count": 3,
   "id": "ce9c18f6",
   "metadata": {},
   "outputs": [],
   "source": [
    "ious = []\n",
    "for filename in os.listdir(PATH_TO_LABELS):\n",
    "    ious.extend(get_all_ious(os.path.join(PATH_TO_LABELS, filename)))"
   ]
  },
  {
   "cell_type": "code",
   "execution_count": 4,
   "id": "b6cffca5",
   "metadata": {},
   "outputs": [],
   "source": [
    "import numpy as np\n",
    "\n",
    "ious = np.array(ious)\n",
    "x = np.linspace(0.02, 0.98)\n",
    "y = np.quantile(ious, x)"
   ]
  },
  {
   "cell_type": "code",
   "execution_count": 5,
   "id": "3d64b0b6",
   "metadata": {},
   "outputs": [
    {
     "data": {
      "text/plain": [
       "[<matplotlib.lines.Line2D at 0x7fc60b3b57f0>]"
      ]
     },
     "execution_count": 5,
     "metadata": {},
     "output_type": "execute_result"
    },
    {
     "data": {
      "image/png": "[encoded data removed]",
      "text/plain": [
       "<Figure size 432x288 with 1 Axes>"
      ]
     },
     "metadata": {
      "needs_background": "light"
     },
     "output_type": "display_data"
    }
   ],
   "source": [
    "import matplotlib.pyplot as plt\n",
    "\n",
    "plt.plot(x, y, 'o')"
   ]
  },
  {
   "cell_type": "markdown",
   "id": "966d3df1",
   "metadata": {},
   "source": [
    "Поэтому возьмём порог по IoU между 0.2 и 0.5"
   ]
  },
  {
   "cell_type": "markdown",
   "id": "1e8121af",
   "metadata": {},
   "source": [
    "Ещё посмотрим на распределение IoU по тем парам bounding box-ов, которые различаются по confidence не более, чем на 0.1:"
   ]
  },
  {
   "cell_type": "code",
   "execution_count": 6,
   "id": "aa52e97b",
   "metadata": {},
   "outputs": [],
   "source": [
    "def get_all_close_ious(file_path):\n",
    "    with open(file_path, 'r') as f:\n",
    "        bounding_boxes = []\n",
    "        ious = []\n",
    "        for line in f.readlines():\n",
    "            _, x_center, y_center, w, h, conf = [float(s) for s in line.split()]\n",
    "            bounding_boxes.append((x_center, y_center, w, h, conf))\n",
    "        for i1, bbox1 in enumerate(bounding_boxes):\n",
    "            for i2, bbox2 in enumerate(bounding_boxes):\n",
    "                if i1 != i2:\n",
    "                    iou = calculate_iou(bbox1[:-1], bbox2[:-1])\n",
    "                    if iou and abs(bbox1[-1] - bbox2[-1]) <= 0.1:\n",
    "                        ious.append(iou)\n",
    "    return ious"
   ]
  },
  {
   "cell_type": "code",
   "execution_count": 7,
   "id": "2c5e3d2e",
   "metadata": {},
   "outputs": [],
   "source": [
    "close_ious = []\n",
    "for filename in os.listdir(PATH_TO_LABELS):\n",
    "    close_ious.extend(get_all_close_ious(os.path.join(PATH_TO_LABELS, filename)))"
   ]
  },
  {
   "cell_type": "code",
   "execution_count": 8,
   "id": "723060a7",
   "metadata": {},
   "outputs": [],
   "source": [
    "close_ious = np.array(close_ious)\n",
    "x = np.linspace(0.02, 0.98)\n",
    "y = np.quantile(close_ious, x)"
   ]
  },
  {
   "cell_type": "code",
   "execution_count": 9,
   "id": "a3976090",
   "metadata": {},
   "outputs": [
    {
     "data": {
      "text/plain": [
       "[<matplotlib.lines.Line2D at 0x7fc6092b4a30>]"
      ]
     },
     "execution_count": 9,
     "metadata": {},
     "output_type": "execute_result"
    },
    {
     "data": {
      "image/png": "[encoded data removed]",
      "text/plain": [
       "<Figure size 432x288 with 1 Axes>"
      ]
     },
     "metadata": {
      "needs_background": "light"
     },
     "output_type": "display_data"
    }
   ],
   "source": [
    "plt.plot(x, y, 'o')"
   ]
  },
  {
   "cell_type": "code",
   "execution_count": null,
   "id": "d518ca0a",
   "metadata": {},
   "outputs": [],
   "source": []
  }
 ],
 "metadata": {
  "kernelspec": {
   "display_name": "Python 3 (ipykernel)",
   "language": "python",
   "name": "python3"
  },
  "language_info": {
   "codemirror_mode": {
    "name": "ipython",
    "version": 3
   },
   "file_extension": ".py",
   "mimetype": "text/x-python",
   "name": "python",
   "nbconvert_exporter": "python",
   "pygments_lexer": "ipython3",
   "version": "3.8.10"
  }
 },
 "nbformat": 4,
 "nbformat_minor": 5
}
