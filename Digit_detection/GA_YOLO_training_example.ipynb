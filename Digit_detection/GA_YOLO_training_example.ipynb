{
 "cells": [
  {
   "cell_type": "code",
   "execution_count": 1,
   "metadata": {},
   "outputs": [],
   "source": [
    "import ssl\n",
    "ssl._create_default_https_context = ssl._create_unverified_context"
   ]
  },
  {
   "cell_type": "code",
   "execution_count": 2,
   "metadata": {},
   "outputs": [],
   "source": [
    "import os"
   ]
  },
  {
   "cell_type": "code",
   "execution_count": 3,
   "metadata": {},
   "outputs": [],
   "source": [
    "os.environ['WANDB_NOTEBOOK_NAME'] = 'GA_YOLO_training_example.ipynb'"
   ]
  },
  {
   "cell_type": "code",
   "execution_count": 4,
   "metadata": {},
   "outputs": [
    {
     "name": "stderr",
     "output_type": "stream",
     "text": [
      "/home/jorji/jet-project/Rod_detection/yolov5pip/lib/python3.10/site-packages/tqdm/auto.py:22: TqdmWarning: IProgress not found. Please update jupyter and ipywidgets. See https://ipywidgets.readthedocs.io/en/stable/user_install.html\n",
      "  from .autonotebook import tqdm as notebook_tqdm\n",
      "\u001b[34m\u001b[1mwandb\u001b[0m: Currently logged in as: \u001b[33mxanggx\u001b[0m (use `wandb login --relogin` to force relogin)\n",
      "\u001b[34m\u001b[1mtrain: \u001b[0mweights=yolov5s.pt, cfg=, data=svhn.yaml, hyp=hyp-low-digit-detection.yaml, epochs=10, batch_size=36, imgsz=640, rect=False, resume=False, nosave=False, noval=False, noautoanchor=False, evolve=None, bucket=, cache=None, image_weights=False, device=, multi_scale=False, single_cls=False, optimizer=SGD, sync_bn=False, workers=8, project=../yolov5/runs/train, name=exp, exist_ok=False, quad=False, cos_lr=False, label_smoothing=0.0, patience=100, freeze=[0], save_period=-1, local_rank=-1, entity=None, upload_dataset=False, bbox_interval=-1, artifact_alias=latest\n",
      "\u001b[34m\u001b[1mgithub: \u001b[0m⚠️ YOLOv5 is out of date by 8 commits. Use `git pull` or `git clone https://github.com/ultralytics/yolov5` to update.\n",
      "YOLOv5 🚀 v6.1-127-gfa569cd torch 1.11.0+cu102 CUDA:0 (NVIDIA GeForce GTX 1070, 8116MiB)\n",
      "\n",
      "\u001b[34m\u001b[1mhyperparameters: \u001b[0mlr0=0.01, lrf=0.01, momentum=0.937, weight_decay=0.0005, warmup_epochs=3.0, warmup_momentum=0.8, warmup_bias_lr=0.1, box=0.05, cls=0.5, cls_pw=1.0, obj=1.0, obj_pw=1.0, iou_t=0.2, anchor_t=4.0, fl_gamma=0.0, hsv_h=0.015, hsv_s=0.7, hsv_v=0.4, degrees=0.0, translate=0.1, scale=0.5, shear=0.0, perspective=0.0, flipud=0.0, fliplr=0.0, mosaic=1.0, mixup=0.0, copy_paste=0.0\n",
      "\u001b[34m\u001b[1mTensorBoard: \u001b[0mStart with 'tensorboard --logdir ../yolov5/runs/train', view at http://localhost:6006/\n"
     ]
    },
    {
     "data": {
      "text/html": [
       "Tracking run with wandb version 0.12.14"
      ],
      "text/plain": [
       "<IPython.core.display.HTML object>"
      ]
     },
     "metadata": {},
     "output_type": "display_data"
    },
    {
     "data": {
      "text/html": [
       "Run data is saved locally in <code>/home/jorji/jet-project/Digit_detection/wandb/run-20220417_170333-2ef77efy</code>"
      ],
      "text/plain": [
       "<IPython.core.display.HTML object>"
      ]
     },
     "metadata": {},
     "output_type": "display_data"
    },
    {
     "data": {
      "text/html": [
       "Syncing run <strong><a href=\"https://wandb.ai/xanggx/train/runs/2ef77efy\" target=\"_blank\">splendid-universe-10</a></strong> to <a href=\"https://wandb.ai/xanggx/train\" target=\"_blank\">Weights & Biases</a> (<a href=\"https://wandb.me/run\" target=\"_blank\">docs</a>)<br/>"
      ],
      "text/plain": [
       "<IPython.core.display.HTML object>"
      ]
     },
     "metadata": {},
     "output_type": "display_data"
    },
    {
     "name": "stderr",
     "output_type": "stream",
     "text": [
      "Overriding model.yaml nc=80 with nc=10\n",
      "\n",
      "                 from  n    params  module                                  arguments                     \n",
      "  0                -1  1      3520  models.common.Conv                      [3, 32, 6, 2, 2]              \n",
      "  1                -1  1     18560  models.common.Conv                      [32, 64, 3, 2]                \n",
      "  2                -1  1     18816  models.common.C3                        [64, 64, 1]                   \n",
      "  3                -1  1     73984  models.common.Conv                      [64, 128, 3, 2]               \n",
      "  4                -1  2    115712  models.common.C3                        [128, 128, 2]                 \n",
      "  5                -1  1    295424  models.common.Conv                      [128, 256, 3, 2]              \n",
      "  6                -1  3    625152  models.common.C3                        [256, 256, 3]                 \n",
      "  7                -1  1   1180672  models.common.Conv                      [256, 512, 3, 2]              \n",
      "  8                -1  1   1182720  models.common.C3                        [512, 512, 1]                 \n",
      "  9                -1  1    656896  models.common.SPPF                      [512, 512, 5]                 \n",
      " 10                -1  1    131584  models.common.Conv                      [512, 256, 1, 1]              \n",
      " 11                -1  1         0  torch.nn.modules.upsampling.Upsample    [None, 2, 'nearest']          \n",
      " 12           [-1, 6]  1         0  models.common.Concat                    [1]                           \n",
      " 13                -1  1    361984  models.common.C3                        [512, 256, 1, False]          \n",
      " 14                -1  1     33024  models.common.Conv                      [256, 128, 1, 1]              \n",
      " 15                -1  1         0  torch.nn.modules.upsampling.Upsample    [None, 2, 'nearest']          \n",
      " 16           [-1, 4]  1         0  models.common.Concat                    [1]                           \n",
      " 17                -1  1     90880  models.common.C3                        [256, 128, 1, False]          \n",
      " 18                -1  1    147712  models.common.Conv                      [128, 128, 3, 2]              \n",
      " 19          [-1, 14]  1         0  models.common.Concat                    [1]                           \n",
      " 20                -1  1    296448  models.common.C3                        [256, 256, 1, False]          \n",
      " 21                -1  1    590336  models.common.Conv                      [256, 256, 3, 2]              \n",
      " 22          [-1, 10]  1         0  models.common.Concat                    [1]                           \n",
      " 23                -1  1   1182720  models.common.C3                        [512, 512, 1, False]          \n",
      " 24      [17, 20, 23]  1     40455  models.yolo.Detect                      [10, [[10, 13, 16, 30, 33, 23], [30, 61, 62, 45, 59, 119], [116, 90, 156, 198, 373, 326]], [128, 256, 512]]\n",
      "Model summary: 270 layers, 7046599 parameters, 7046599 gradients\n",
      "\n",
      "Transferred 343/349 items from yolov5s.pt\n",
      "Scaled weight_decay = 0.0005625000000000001\n",
      "\u001b[34m\u001b[1moptimizer:\u001b[0m SGD with parameter groups 57 weight (no decay), 60 weight, 60 bias\n",
      "\u001b[34m\u001b[1malbumentations: \u001b[0mBlur(always_apply=False, p=0.01, blur_limit=(3, 7)), MedianBlur(always_apply=False, p=0.01, blur_limit=(3, 7)), ToGray(always_apply=False, p=0.01), CLAHE(always_apply=False, p=0.01, clip_limit=(1, 4.0), tile_grid_size=(8, 8))\n",
      "\u001b[34m\u001b[1mtrain: \u001b[0mScanning '/home/jorji/jet-project/datasets/svhn/labels/train.cache' images and labels... 37176 found, 0 missing, 0 empty, 2 corrupt: 100%|██████████| 37176/37176 [00:00<?, ?it/s]\n",
      "\u001b[34m\u001b[1mtrain: \u001b[0mWARNING: /home/jorji/jet-project/datasets/svhn/images/train/12668.png: ignoring corrupt image/label: non-normalized or out of bounds coordinates [     1.3077]\n",
      "\u001b[34m\u001b[1mtrain: \u001b[0mWARNING: /home/jorji/jet-project/datasets/svhn/images/train/3192_.png: ignoring corrupt image/label: non-normalized or out of bounds coordinates [     1.0152]\n",
      "\u001b[34m\u001b[1mval: \u001b[0mScanning '/home/jorji/jet-project/datasets/svhn/labels/valid.cache' images and labels... 9294 found, 0 missing, 0 empty, 0 corrupt: 100%|██████████| 9294/9294 [00:00<?, ?it/s]\n",
      "Plotting labels to ../yolov5/runs/train/exp10/labels.jpg... \n",
      "\n",
      "\u001b[34m\u001b[1mAutoAnchor: \u001b[0m4.98 anchors/target, 1.000 Best Possible Recall (BPR). Current anchors are a good fit to dataset ✅\n",
      "Image sizes 640 train, 640 val\n",
      "Using 6 dataloader workers\n",
      "Logging results to \u001b[1m../yolov5/runs/train/exp10\u001b[0m\n",
      "Starting training for 10 epochs...\n",
      "\n",
      "     Epoch   gpu_mem       box       obj       cls    labels  img_size\n",
      "       0/9     7.23G   0.05272   0.03038   0.05169       105       640: 100%|██████████| 1033/1033 [14:49<00:00,  1.16it/s]\n",
      "               Class     Images     Labels          P          R     mAP@.5 mAP@.5:.95: 100%|██████████| 130/130 [00:51<00:00,  2.53it/s]\n",
      "                 all       9294      19857      0.598      0.669      0.672        0.3\n",
      "\n",
      "     Epoch   gpu_mem       box       obj       cls    labels  img_size\n",
      "       1/9     6.57G   0.04447   0.02518   0.02153       103       640: 100%|██████████| 1033/1033 [14:33<00:00,  1.18it/s]\n",
      "               Class     Images     Labels          P          R     mAP@.5 mAP@.5:.95: 100%|██████████| 130/130 [00:50<00:00,  2.58it/s]\n",
      "                 all       9294      19857      0.898      0.857      0.902      0.426\n",
      "\n",
      "     Epoch   gpu_mem       box       obj       cls    labels  img_size\n",
      "       2/9     6.57G   0.04288   0.02493   0.01639        98       640: 100%|██████████| 1033/1033 [13:34<00:00,  1.27it/s]\n",
      "               Class     Images     Labels          P          R     mAP@.5 mAP@.5:.95: 100%|██████████| 130/130 [00:47<00:00,  2.72it/s]\n",
      "                 all       9294      19857      0.905      0.871      0.909      0.436\n",
      "\n",
      "     Epoch   gpu_mem       box       obj       cls    labels  img_size\n",
      "       3/9     6.57G   0.04075   0.02461   0.01442        89       640: 100%|██████████| 1033/1033 [14:10<00:00,  1.21it/s]\n",
      "               Class     Images     Labels          P          R     mAP@.5 mAP@.5:.95: 100%|██████████| 130/130 [00:50<00:00,  2.58it/s]\n",
      "                 all       9294      19857      0.911      0.881      0.918      0.452\n",
      "\n",
      "     Epoch   gpu_mem       box       obj       cls    labels  img_size\n",
      "       4/9     6.57G   0.03975   0.02428   0.01282        91       640: 100%|██████████| 1033/1033 [14:20<00:00,  1.20it/s]\n",
      "               Class     Images     Labels          P          R     mAP@.5 mAP@.5:.95: 100%|██████████| 130/130 [00:50<00:00,  2.58it/s]\n",
      "                 all       9294      19857      0.927      0.904      0.935      0.464\n",
      "\n",
      "     Epoch   gpu_mem       box       obj       cls    labels  img_size\n",
      "       5/9     6.57G   0.03894   0.02395   0.01162       106       640: 100%|██████████| 1033/1033 [14:26<00:00,  1.19it/s]\n",
      "               Class     Images     Labels          P          R     mAP@.5 mAP@.5:.95: 100%|██████████| 130/130 [00:47<00:00,  2.72it/s]\n",
      "                 all       9294      19857      0.926      0.908      0.937       0.47\n",
      "\n",
      "     Epoch   gpu_mem       box       obj       cls    labels  img_size\n",
      "       6/9     6.57G   0.03834   0.02375   0.01071        87       640: 100%|██████████| 1033/1033 [13:34<00:00,  1.27it/s]\n",
      "               Class     Images     Labels          P          R     mAP@.5 mAP@.5:.95: 100%|██████████| 130/130 [00:47<00:00,  2.73it/s]\n",
      "                 all       9294      19857      0.926      0.916       0.94      0.468\n",
      "\n",
      "     Epoch   gpu_mem       box       obj       cls    labels  img_size\n",
      "       7/9     6.57G   0.03789   0.02366   0.01003        83       640: 100%|██████████| 1033/1033 [13:34<00:00,  1.27it/s]\n",
      "               Class     Images     Labels          P          R     mAP@.5 mAP@.5:.95: 100%|██████████| 130/130 [00:47<00:00,  2.73it/s]\n",
      "                 all       9294      19857      0.928      0.922      0.944       0.48\n",
      "\n",
      "     Epoch   gpu_mem       box       obj       cls    labels  img_size\n",
      "       8/9     6.57G    0.0374   0.02348  0.009522        97       640: 100%|██████████| 1033/1033 [13:34<00:00,  1.27it/s]\n",
      "               Class     Images     Labels          P          R     mAP@.5 mAP@.5:.95: 100%|██████████| 130/130 [00:47<00:00,  2.72it/s]\n",
      "                 all       9294      19857       0.93      0.925      0.945      0.482\n",
      "\n",
      "     Epoch   gpu_mem       box       obj       cls    labels  img_size\n",
      "       9/9     6.57G   0.03692   0.02337  0.008702       113       640: 100%|██████████| 1033/1033 [13:34<00:00,  1.27it/s]\n",
      "               Class     Images     Labels          P          R     mAP@.5 mAP@.5:.95: 100%|██████████| 130/130 [00:47<00:00,  2.72it/s]\n",
      "                 all       9294      19857      0.931       0.93      0.947      0.484\n",
      "\n",
      "10 epochs completed in 2.475 hours.\n",
      "Optimizer stripped from ../yolov5/runs/train/exp10/weights/last.pt, 14.5MB\n",
      "Optimizer stripped from ../yolov5/runs/train/exp10/weights/best.pt, 14.5MB\n",
      "\n",
      "Validating ../yolov5/runs/train/exp10/weights/best.pt...\n",
      "Fusing layers... \n",
      "Model summary: 213 layers, 7037095 parameters, 0 gradients\n",
      "               Class     Images     Labels          P          R     mAP@.5 mAP@.5:.95: 100%|██████████| 130/130 [00:57<00:00,  2.26it/s]\n",
      "                 all       9294      19857       0.93       0.93      0.947      0.484\n",
      "                zero       9294       1410       0.94      0.943      0.959      0.504\n",
      "                 one       9294       3828      0.903      0.902      0.909      0.387\n",
      "                 two       9294       2866      0.933      0.949      0.953      0.495\n",
      "               three       9294       2333      0.923      0.922      0.941      0.491\n",
      "                four       9294       1923      0.945      0.947      0.959      0.485\n",
      "                five       9294       1865      0.925      0.921      0.949      0.491\n",
      "                 six       9294       1593      0.917      0.925      0.944      0.495\n",
      "               seven       9294       1512      0.944      0.936      0.955      0.477\n",
      "               eight       9294       1321       0.94      0.922      0.951      0.511\n",
      "                nine       9294       1206      0.934      0.933       0.95      0.506\n"
     ]
    },
    {
     "name": "stdout",
     "output_type": "stream",
     "text": [
      "\n"
     ]
    },
    {
     "data": {
      "text/html": [
       "Waiting for W&B process to finish... <strong style=\"color:green\">(success).</strong>"
      ],
      "text/plain": [
       "<IPython.core.display.HTML object>"
      ]
     },
     "metadata": {},
     "output_type": "display_data"
    },
    {
     "data": {
      "text/html": [
       "<style>\n",
       "    table.wandb td:nth-child(1) { padding: 0 10px; text-align: right }\n",
       "    .wandb-row { display: flex; flex-direction: row; flex-wrap: wrap; width: 100% }\n",
       "    .wandb-col { display: flex; flex-direction: column; flex-basis: 100%; flex: 1; padding: 10px; }\n",
       "    </style>\n",
       "<div class=\"wandb-row\"><div class=\"wandb-col\"><h3>Run history:</h3><br/><table class=\"wandb\"><tr><td>metrics/mAP_0.5</td><td>▁▇▇▇███████</td></tr><tr><td>metrics/mAP_0.5:0.95</td><td>▁▆▆▇▇▇▇████</td></tr><tr><td>metrics/precision</td><td>▁▇▇████████</td></tr><tr><td>metrics/recall</td><td>▁▆▆▇▇▇█████</td></tr><tr><td>train/box_loss</td><td>█▄▄▃▂▂▂▁▁▁</td></tr><tr><td>train/cls_loss</td><td>█▃▂▂▂▁▁▁▁▁</td></tr><tr><td>train/obj_loss</td><td>█▃▃▂▂▂▁▁▁▁</td></tr><tr><td>val/box_loss</td><td>█▆▅▃▃▂▂▁▁▁▁</td></tr><tr><td>val/cls_loss</td><td>█▃▂▂▂▁▁▁▁▁▁</td></tr><tr><td>val/obj_loss</td><td>█▅▅▄▃▂▂▂▁▁▁</td></tr><tr><td>x/lr0</td><td>▂▆█▇▇▆▅▃▂▁</td></tr><tr><td>x/lr1</td><td>▂▆█▇▇▆▅▃▂▁</td></tr><tr><td>x/lr2</td><td>█▅▂▂▂▁▁▁▁▁</td></tr></table><br/></div><div class=\"wandb-col\"><h3>Run summary:</h3><br/><table class=\"wandb\"><tr><td>best/epoch</td><td>9</td></tr><tr><td>best/mAP_0.5</td><td>0.94692</td></tr><tr><td>best/mAP_0.5:0.95</td><td>0.48426</td></tr><tr><td>best/precision</td><td>0.93055</td></tr><tr><td>best/recall</td><td>0.92997</td></tr><tr><td>metrics/mAP_0.5</td><td>0.94702</td></tr><tr><td>metrics/mAP_0.5:0.95</td><td>0.48427</td></tr><tr><td>metrics/precision</td><td>0.9304</td></tr><tr><td>metrics/recall</td><td>0.93003</td></tr><tr><td>train/box_loss</td><td>0.03692</td></tr><tr><td>train/cls_loss</td><td>0.0087</td></tr><tr><td>train/obj_loss</td><td>0.02337</td></tr><tr><td>val/box_loss</td><td>0.03638</td></tr><tr><td>val/cls_loss</td><td>0.0053</td></tr><tr><td>val/obj_loss</td><td>0.02247</td></tr><tr><td>x/lr0</td><td>0.00208</td></tr><tr><td>x/lr1</td><td>0.00208</td></tr><tr><td>x/lr2</td><td>0.00208</td></tr></table><br/></div></div>"
      ],
      "text/plain": [
       "<IPython.core.display.HTML object>"
      ]
     },
     "metadata": {},
     "output_type": "display_data"
    },
    {
     "data": {
      "text/html": [
       "Synced <strong style=\"color:#cdcd00\">splendid-universe-10</strong>: <a href=\"https://wandb.ai/xanggx/train/runs/2ef77efy\" target=\"_blank\">https://wandb.ai/xanggx/train/runs/2ef77efy</a><br/>Synced 5 W&B file(s), 337 media file(s), 1 artifact file(s) and 0 other file(s)"
      ],
      "text/plain": [
       "<IPython.core.display.HTML object>"
      ]
     },
     "metadata": {},
     "output_type": "display_data"
    },
    {
     "data": {
      "text/html": [
       "Find logs at: <code>./wandb/run-20220417_170333-2ef77efy/logs</code>"
      ],
      "text/plain": [
       "<IPython.core.display.HTML object>"
      ]
     },
     "metadata": {},
     "output_type": "display_data"
    },
    {
     "name": "stderr",
     "output_type": "stream",
     "text": [
      "Results saved to \u001b[1m../yolov5/runs/train/exp10\u001b[0m\n"
     ]
    }
   ],
   "source": [
    "# yolov5 should be cloned via git locally\n",
    "%run -i '../yolov5/train.py' --data svhn.yaml --hyp 'hyp-low-digit-detection.yaml' --img 640 --epochs 10 --batch 36 --weights yolov5s.pt"
   ]
  },
  {
   "cell_type": "code",
   "execution_count": null,
   "metadata": {},
   "outputs": [],
   "source": []
  }
 ],
 "metadata": {
  "interpreter": {
   "hash": "586ad1ed5c97141e2437e681efbf1ec0adcd17d830cf5af2ca3d2819e743e158"
  },
  "kernelspec": {
   "display_name": "Python 3.8.8 ('base')",
   "language": "python",
   "name": "python3"
  },
  "language_info": {
   "codemirror_mode": {
    "name": "ipython",
    "version": 3
   },
   "file_extension": ".py",
   "mimetype": "text/x-python",
   "name": "python",
   "nbconvert_exporter": "python",
   "pygments_lexer": "ipython3",
   "version": "3.10.2"
  },
  "orig_nbformat": 4
 },
 "nbformat": 4,
 "nbformat_minor": 2
}
